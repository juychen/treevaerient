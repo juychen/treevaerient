{
 "cells": [
  {
   "cell_type": "code",
   "execution_count": 2,
   "metadata": {},
   "outputs": [],
   "source": [
    "import pandas as pd\n",
    "import torch \n",
    "import numpy as np\n",
    "from scipy.io import mmread"
   ]
  },
  {
   "cell_type": "code",
   "execution_count": 3,
   "metadata": {},
   "outputs": [],
   "source": [
    "# Read matrix"
   ]
  },
  {
   "cell_type": "code",
   "execution_count": 4,
   "metadata": {},
   "outputs": [],
   "source": [
    "#matrix_dp = mmread('/home/junyi/code/treevae/data/Variant/trimmed_starsolo_chrM_cellSNP0_WaldVariant_paperCell/passed_dp.mtx')\n",
    "#matrix_ad = mmread('/home/junyi/code/treevae/data/Variant/trimmed_starsolo_chrM_cellSNP0_WaldVariant_paperCell/passed_ad.mtx')\n",
    "# Read the cell label\n",
    "#matrix_dp.shape\n",
    "df_cell_label = pd.read_csv('/home/junyi/code/treevae/data/Variant/bpdcn712_assemble_trimmed_aligned_mt_addtag_cellSNP0_WaldVariant_paperCell/cell_label.csv')\n",
    "var_name = pd.read_csv('/home/junyi/code/treevae/data/Variant/bpdcn712_assemble_trimmed_aligned_mt_addtag_cellSNP0_WaldVariant_paperCell/passed_variant_names.txt',header=None)\n",
    "sample_name = pd.read_csv('/home/junyi/code/treevae/data/Variant/bpdcn712_assemble_trimmed_aligned_mt_addtag_cellSNP0_WaldVariant_paperCell/passed_sample_names.txt',header=None)\n"
   ]
  },
  {
   "cell_type": "code",
   "execution_count": 7,
   "metadata": {},
   "outputs": [
    {
     "data": {
      "text/html": [
       "<div>\n",
       "<style scoped>\n",
       "    .dataframe tbody tr th:only-of-type {\n",
       "        vertical-align: middle;\n",
       "    }\n",
       "\n",
       "    .dataframe tbody tr th {\n",
       "        vertical-align: top;\n",
       "    }\n",
       "\n",
       "    .dataframe thead th {\n",
       "        text-align: right;\n",
       "    }\n",
       "</style>\n",
       "<table border=\"1\" class=\"dataframe\">\n",
       "  <thead>\n",
       "    <tr style=\"text-align: right;\">\n",
       "      <th></th>\n",
       "      <th>barcode</th>\n",
       "      <th>true_label</th>\n",
       "    </tr>\n",
       "  </thead>\n",
       "  <tbody>\n",
       "    <tr>\n",
       "      <th>0</th>\n",
       "      <td>AAACCCAGTCTTGCTC</td>\n",
       "      <td>CASSLVEEKLFF</td>\n",
       "    </tr>\n",
       "    <tr>\n",
       "      <th>1</th>\n",
       "      <td>AAACCCAGTGAACGGT</td>\n",
       "      <td>CASSLTGGSYNEQFF</td>\n",
       "    </tr>\n",
       "    <tr>\n",
       "      <th>2</th>\n",
       "      <td>AAACCCATCTAGCCTC</td>\n",
       "      <td>CASSQAGAANTEAFF</td>\n",
       "    </tr>\n",
       "    <tr>\n",
       "      <th>3</th>\n",
       "      <td>AAACCCATCTCCTGAC</td>\n",
       "      <td>CASSPFEETQYF</td>\n",
       "    </tr>\n",
       "    <tr>\n",
       "      <th>4</th>\n",
       "      <td>AAACGAACATGTGCCG</td>\n",
       "      <td>CASSPFEETQYF</td>\n",
       "    </tr>\n",
       "    <tr>\n",
       "      <th>...</th>\n",
       "      <td>...</td>\n",
       "      <td>...</td>\n",
       "    </tr>\n",
       "    <tr>\n",
       "      <th>2232</th>\n",
       "      <td>TTTGGTTAGCATTGAA</td>\n",
       "      <td>CASSLVEEKLFF</td>\n",
       "    </tr>\n",
       "    <tr>\n",
       "      <th>2233</th>\n",
       "      <td>TTTGGTTCAGGACATG</td>\n",
       "      <td>CASSLTGGSYNEQFF</td>\n",
       "    </tr>\n",
       "    <tr>\n",
       "      <th>2234</th>\n",
       "      <td>TTTGTTGCAAAGGTTA</td>\n",
       "      <td>CASSPFEETQYF</td>\n",
       "    </tr>\n",
       "    <tr>\n",
       "      <th>2235</th>\n",
       "      <td>TTTGTTGCACTGGACC</td>\n",
       "      <td>CASSLVEEKLFF</td>\n",
       "    </tr>\n",
       "    <tr>\n",
       "      <th>2236</th>\n",
       "      <td>TTTGTTGTCGTGGGTC</td>\n",
       "      <td>CASSQVGHSADTQYF</td>\n",
       "    </tr>\n",
       "  </tbody>\n",
       "</table>\n",
       "<p>2237 rows × 2 columns</p>\n",
       "</div>"
      ],
      "text/plain": [
       "               barcode       true_label\n",
       "0     AAACCCAGTCTTGCTC     CASSLVEEKLFF\n",
       "1     AAACCCAGTGAACGGT  CASSLTGGSYNEQFF\n",
       "2     AAACCCATCTAGCCTC  CASSQAGAANTEAFF\n",
       "3     AAACCCATCTCCTGAC     CASSPFEETQYF\n",
       "4     AAACGAACATGTGCCG     CASSPFEETQYF\n",
       "...                ...              ...\n",
       "2232  TTTGGTTAGCATTGAA     CASSLVEEKLFF\n",
       "2233  TTTGGTTCAGGACATG  CASSLTGGSYNEQFF\n",
       "2234  TTTGTTGCAAAGGTTA     CASSPFEETQYF\n",
       "2235  TTTGTTGCACTGGACC     CASSLVEEKLFF\n",
       "2236  TTTGTTGTCGTGGGTC  CASSQVGHSADTQYF\n",
       "\n",
       "[2237 rows x 2 columns]"
      ]
     },
     "execution_count": 7,
     "metadata": {},
     "output_type": "execute_result"
    }
   ],
   "source": [
    "df_cell_label[df_cell_label]"
   ]
  },
  {
   "cell_type": "code",
   "execution_count": 5,
   "metadata": {},
   "outputs": [
    {
     "data": {
      "text/html": [
       "<div>\n",
       "<style scoped>\n",
       "    .dataframe tbody tr th:only-of-type {\n",
       "        vertical-align: middle;\n",
       "    }\n",
       "\n",
       "    .dataframe tbody tr th {\n",
       "        vertical-align: top;\n",
       "    }\n",
       "\n",
       "    .dataframe thead th {\n",
       "        text-align: right;\n",
       "    }\n",
       "</style>\n",
       "<table border=\"1\" class=\"dataframe\">\n",
       "  <thead>\n",
       "    <tr style=\"text-align: right;\">\n",
       "      <th></th>\n",
       "      <th>0</th>\n",
       "    </tr>\n",
       "  </thead>\n",
       "  <tbody>\n",
       "    <tr>\n",
       "      <th>0</th>\n",
       "      <td>AAACCCAGTCTTGCTC</td>\n",
       "    </tr>\n",
       "    <tr>\n",
       "      <th>1</th>\n",
       "      <td>AAACCCAGTGAACGGT</td>\n",
       "    </tr>\n",
       "    <tr>\n",
       "      <th>2</th>\n",
       "      <td>AAACCCATCTAGCCTC</td>\n",
       "    </tr>\n",
       "    <tr>\n",
       "      <th>3</th>\n",
       "      <td>AAACCCATCTCCTGAC</td>\n",
       "    </tr>\n",
       "    <tr>\n",
       "      <th>4</th>\n",
       "      <td>AAACGAACATGTGCCG</td>\n",
       "    </tr>\n",
       "    <tr>\n",
       "      <th>...</th>\n",
       "      <td>...</td>\n",
       "    </tr>\n",
       "    <tr>\n",
       "      <th>2232</th>\n",
       "      <td>TTTGGTTAGCATTGAA</td>\n",
       "    </tr>\n",
       "    <tr>\n",
       "      <th>2233</th>\n",
       "      <td>TTTGGTTCAGGACATG</td>\n",
       "    </tr>\n",
       "    <tr>\n",
       "      <th>2234</th>\n",
       "      <td>TTTGTTGCAAAGGTTA</td>\n",
       "    </tr>\n",
       "    <tr>\n",
       "      <th>2235</th>\n",
       "      <td>TTTGTTGCACTGGACC</td>\n",
       "    </tr>\n",
       "    <tr>\n",
       "      <th>2236</th>\n",
       "      <td>TTTGTTGTCGTGGGTC</td>\n",
       "    </tr>\n",
       "  </tbody>\n",
       "</table>\n",
       "<p>2237 rows × 1 columns</p>\n",
       "</div>"
      ],
      "text/plain": [
       "                     0\n",
       "0     AAACCCAGTCTTGCTC\n",
       "1     AAACCCAGTGAACGGT\n",
       "2     AAACCCATCTAGCCTC\n",
       "3     AAACCCATCTCCTGAC\n",
       "4     AAACGAACATGTGCCG\n",
       "...                ...\n",
       "2232  TTTGGTTAGCATTGAA\n",
       "2233  TTTGGTTCAGGACATG\n",
       "2234  TTTGTTGCAAAGGTTA\n",
       "2235  TTTGTTGCACTGGACC\n",
       "2236  TTTGTTGTCGTGGGTC\n",
       "\n",
       "[2237 rows x 1 columns]"
      ]
     },
     "execution_count": 5,
     "metadata": {},
     "output_type": "execute_result"
    }
   ],
   "source": [
    "sample_name"
   ]
  },
  {
   "cell_type": "code",
   "execution_count": 6,
   "metadata": {},
   "outputs": [
    {
     "data": {
      "text/html": [
       "<div>\n",
       "<style scoped>\n",
       "    .dataframe tbody tr th:only-of-type {\n",
       "        vertical-align: middle;\n",
       "    }\n",
       "\n",
       "    .dataframe tbody tr th {\n",
       "        vertical-align: top;\n",
       "    }\n",
       "\n",
       "    .dataframe thead th {\n",
       "        text-align: right;\n",
       "    }\n",
       "</style>\n",
       "<table border=\"1\" class=\"dataframe\">\n",
       "  <thead>\n",
       "    <tr style=\"text-align: right;\">\n",
       "      <th></th>\n",
       "      <th>barcode</th>\n",
       "      <th>true_label</th>\n",
       "    </tr>\n",
       "  </thead>\n",
       "  <tbody>\n",
       "    <tr>\n",
       "      <th>0</th>\n",
       "      <td>AAACCCAGTCTTGCTC</td>\n",
       "      <td>CASSLVEEKLFF</td>\n",
       "    </tr>\n",
       "    <tr>\n",
       "      <th>1</th>\n",
       "      <td>AAACCCAGTGAACGGT</td>\n",
       "      <td>CASSLTGGSYNEQFF</td>\n",
       "    </tr>\n",
       "    <tr>\n",
       "      <th>2</th>\n",
       "      <td>AAACCCATCTAGCCTC</td>\n",
       "      <td>CASSQAGAANTEAFF</td>\n",
       "    </tr>\n",
       "    <tr>\n",
       "      <th>3</th>\n",
       "      <td>AAACCCATCTCCTGAC</td>\n",
       "      <td>CASSPFEETQYF</td>\n",
       "    </tr>\n",
       "    <tr>\n",
       "      <th>4</th>\n",
       "      <td>AAACGAACATGTGCCG</td>\n",
       "      <td>CASSPFEETQYF</td>\n",
       "    </tr>\n",
       "    <tr>\n",
       "      <th>...</th>\n",
       "      <td>...</td>\n",
       "      <td>...</td>\n",
       "    </tr>\n",
       "    <tr>\n",
       "      <th>2232</th>\n",
       "      <td>TTTGGTTAGCATTGAA</td>\n",
       "      <td>CASSLVEEKLFF</td>\n",
       "    </tr>\n",
       "    <tr>\n",
       "      <th>2233</th>\n",
       "      <td>TTTGGTTCAGGACATG</td>\n",
       "      <td>CASSLTGGSYNEQFF</td>\n",
       "    </tr>\n",
       "    <tr>\n",
       "      <th>2234</th>\n",
       "      <td>TTTGTTGCAAAGGTTA</td>\n",
       "      <td>CASSPFEETQYF</td>\n",
       "    </tr>\n",
       "    <tr>\n",
       "      <th>2235</th>\n",
       "      <td>TTTGTTGCACTGGACC</td>\n",
       "      <td>CASSLVEEKLFF</td>\n",
       "    </tr>\n",
       "    <tr>\n",
       "      <th>2236</th>\n",
       "      <td>TTTGTTGTCGTGGGTC</td>\n",
       "      <td>CASSQVGHSADTQYF</td>\n",
       "    </tr>\n",
       "  </tbody>\n",
       "</table>\n",
       "<p>2237 rows × 2 columns</p>\n",
       "</div>"
      ],
      "text/plain": [
       "               barcode       true_label\n",
       "0     AAACCCAGTCTTGCTC     CASSLVEEKLFF\n",
       "1     AAACCCAGTGAACGGT  CASSLTGGSYNEQFF\n",
       "2     AAACCCATCTAGCCTC  CASSQAGAANTEAFF\n",
       "3     AAACCCATCTCCTGAC     CASSPFEETQYF\n",
       "4     AAACGAACATGTGCCG     CASSPFEETQYF\n",
       "...                ...              ...\n",
       "2232  TTTGGTTAGCATTGAA     CASSLVEEKLFF\n",
       "2233  TTTGGTTCAGGACATG  CASSLTGGSYNEQFF\n",
       "2234  TTTGTTGCAAAGGTTA     CASSPFEETQYF\n",
       "2235  TTTGTTGCACTGGACC     CASSLVEEKLFF\n",
       "2236  TTTGTTGTCGTGGGTC  CASSQVGHSADTQYF\n",
       "\n",
       "[2237 rows x 2 columns]"
      ]
     },
     "execution_count": 6,
     "metadata": {},
     "output_type": "execute_result"
    }
   ],
   "source": [
    "df_cell_label"
   ]
  },
  {
   "cell_type": "code",
   "execution_count": 17,
   "metadata": {},
   "outputs": [],
   "source": [
    "#df_cell_label[\"barcode\"] = df_cell_label[\"barcode\"].str.replace(\"-1\",\"\")"
   ]
  },
  {
   "cell_type": "code",
   "execution_count": 24,
   "metadata": {},
   "outputs": [],
   "source": [
    "sample_name.set_index(0,inplace=True)\n",
    "df_cell_label.set_index('barcode',inplace=True)\n",
    "df_sorted_label = df_cell_label.loc[sample_name.index].reset_index()"
   ]
  },
  {
   "cell_type": "code",
   "execution_count": 25,
   "metadata": {},
   "outputs": [
    {
     "data": {
      "text/html": [
       "<div>\n",
       "<style scoped>\n",
       "    .dataframe tbody tr th:only-of-type {\n",
       "        vertical-align: middle;\n",
       "    }\n",
       "\n",
       "    .dataframe tbody tr th {\n",
       "        vertical-align: top;\n",
       "    }\n",
       "\n",
       "    .dataframe thead th {\n",
       "        text-align: right;\n",
       "    }\n",
       "</style>\n",
       "<table border=\"1\" class=\"dataframe\">\n",
       "  <thead>\n",
       "    <tr style=\"text-align: right;\">\n",
       "      <th></th>\n",
       "      <th>0</th>\n",
       "      <th>true_label</th>\n",
       "    </tr>\n",
       "  </thead>\n",
       "  <tbody>\n",
       "    <tr>\n",
       "      <th>0</th>\n",
       "      <td>AAACCCACAGCTACAT</td>\n",
       "      <td>K562</td>\n",
       "    </tr>\n",
       "    <tr>\n",
       "      <th>1</th>\n",
       "      <td>AAACCCAGTGATCGTT</td>\n",
       "      <td>K562</td>\n",
       "    </tr>\n",
       "    <tr>\n",
       "      <th>2</th>\n",
       "      <td>AAACCCATCCCTTGTG</td>\n",
       "      <td>BT142</td>\n",
       "    </tr>\n",
       "    <tr>\n",
       "      <th>3</th>\n",
       "      <td>AAACGAAGTACCACGC</td>\n",
       "      <td>BT142</td>\n",
       "    </tr>\n",
       "    <tr>\n",
       "      <th>4</th>\n",
       "      <td>AAACGAATCCCAGTGG</td>\n",
       "      <td>K562</td>\n",
       "    </tr>\n",
       "    <tr>\n",
       "      <th>...</th>\n",
       "      <td>...</td>\n",
       "      <td>...</td>\n",
       "    </tr>\n",
       "    <tr>\n",
       "      <th>2650</th>\n",
       "      <td>TTTGGTTTCAAGTGGG</td>\n",
       "      <td>BT142</td>\n",
       "    </tr>\n",
       "    <tr>\n",
       "      <th>2651</th>\n",
       "      <td>TTTGGTTTCCGATAAC</td>\n",
       "      <td>BT142</td>\n",
       "    </tr>\n",
       "    <tr>\n",
       "      <th>2652</th>\n",
       "      <td>TTTGGTTTCGCAACAT</td>\n",
       "      <td>K562</td>\n",
       "    </tr>\n",
       "    <tr>\n",
       "      <th>2653</th>\n",
       "      <td>TTTGTTGAGACCTTTG</td>\n",
       "      <td>K562</td>\n",
       "    </tr>\n",
       "    <tr>\n",
       "      <th>2654</th>\n",
       "      <td>TTTGTTGAGCTAGCCC</td>\n",
       "      <td>BT142</td>\n",
       "    </tr>\n",
       "  </tbody>\n",
       "</table>\n",
       "<p>2655 rows × 2 columns</p>\n",
       "</div>"
      ],
      "text/plain": [
       "                     0 true_label\n",
       "0     AAACCCACAGCTACAT       K562\n",
       "1     AAACCCAGTGATCGTT       K562\n",
       "2     AAACCCATCCCTTGTG      BT142\n",
       "3     AAACGAAGTACCACGC      BT142\n",
       "4     AAACGAATCCCAGTGG       K562\n",
       "...                ...        ...\n",
       "2650  TTTGGTTTCAAGTGGG      BT142\n",
       "2651  TTTGGTTTCCGATAAC      BT142\n",
       "2652  TTTGGTTTCGCAACAT       K562\n",
       "2653  TTTGTTGAGACCTTTG       K562\n",
       "2654  TTTGTTGAGCTAGCCC      BT142\n",
       "\n",
       "[2655 rows x 2 columns]"
      ]
     },
     "execution_count": 25,
     "metadata": {},
     "output_type": "execute_result"
    }
   ],
   "source": [
    "df_sorted_label"
   ]
  },
  {
   "cell_type": "code",
   "execution_count": 26,
   "metadata": {},
   "outputs": [],
   "source": [
    "df_sorted_label.columns = ['barcode','true_label']\n",
    "#df_sorted_label.to_csv('/home/junyi/code/treevae/data/Variant/trimmed_starsolo_chrM_cellSNP0_WaldVariant_paperCell/cell_label.csv',index=False)"
   ]
  },
  {
   "cell_type": "code",
   "execution_count": 6,
   "metadata": {},
   "outputs": [],
   "source": [
    "sample_name = sample_name[0].values"
   ]
  },
  {
   "cell_type": "code",
   "execution_count": null,
   "metadata": {},
   "outputs": [],
   "source": [
    "\n",
    "from sklearn.preprocessing import LabelEncoder\n",
    "label_encoder = LabelEncoder()\n",
    "# Fit the label encoder on the labels\n",
    "label_encoder.fit(df_cell_label[\"true_label\"].values)\n",
    "# Transform the labels into encoded values\n",
    "encoded_labels = label_encoder.transform(df_cell_label[\"true_label\"].values)\n",
    "\n",
    "# Print the encoded labels\n",
    "\n",
    "encoded_labels\n",
    "df_cell_label.head()\n",
    "set(df_cell_label[\"true_label\"].values)\n",
    "matrix_ad_dp = matrix_ad/matrix_dp\n",
    "matrix_ad_dp = matrix_ad_dp.T\n",
    "from sklearn.model_selection import train_test_split\n",
    "X_train_val, X_test, y_train_val, y_test = train_test_split(matrix_ad_dp, encoded_labels, test_size=0.2, random_state=42)\n",
    "#X_train, X_val, y_train, y_val = train_test_split(X_train_val, y_train_val, test_size=0.2, random_state=42)\n"
   ]
  },
  {
   "cell_type": "code",
   "execution_count": 8,
   "metadata": {},
   "outputs": [],
   "source": [
    "sample_name.set_index(0,inplace=True)\n",
    "df_cell_label.set_index('barcode',inplace=True)\n",
    "df_sorted_label = df_cell_label.loc[sample_name.index].reset_index()"
   ]
  },
  {
   "cell_type": "code",
   "execution_count": 17,
   "metadata": {},
   "outputs": [],
   "source": [
    "df_sorted_label.columns = ['barcode','true_label']\n",
    "df_sorted_label.to_csv('/home/junyi/code/treevae/data/Variant/trimmed_starsolo_chrM_cellSNP0_WaldVariant_paperCell/cell_label.csv',index=False)"
   ]
  },
  {
   "cell_type": "code",
   "execution_count": 47,
   "metadata": {},
   "outputs": [
    {
     "data": {
      "text/plain": [
       "(1699, 3972)"
      ]
     },
     "execution_count": 47,
     "metadata": {},
     "output_type": "execute_result"
    }
   ],
   "source": [
    "X_train.shape"
   ]
  },
  {
   "cell_type": "code",
   "execution_count": 48,
   "metadata": {},
   "outputs": [
    {
     "data": {
      "text/plain": [
       "matrix([[0.        , 0.        , 0.        , ..., 0.00218818, 0.        ,\n",
       "         0.00348432],\n",
       "        [0.        , 0.        , 0.        , ..., 0.00090334, 0.00290276,\n",
       "         0.01061224],\n",
       "        [0.        , 0.        , 0.        , ..., 0.00148588, 0.00159744,\n",
       "         0.00273224],\n",
       "        ...,\n",
       "        [0.        , 0.        , 0.        , ..., 0.00847458, 0.        ,\n",
       "         0.01587302],\n",
       "        [0.        , 0.        , 0.0023753 , ..., 0.00733945, 0.        ,\n",
       "         0.00578035],\n",
       "        [0.        , 0.        , 0.        , ..., 0.00696864, 0.        ,\n",
       "         0.01142857]])"
      ]
     },
     "execution_count": 48,
     "metadata": {},
     "output_type": "execute_result"
    }
   ],
   "source": [
    "X_train"
   ]
  },
  {
   "cell_type": "code",
   "execution_count": 49,
   "metadata": {},
   "outputs": [
    {
     "data": {
      "text/plain": [
       "tensor([[0.0000, 0.0000, 0.0000,  ..., 0.0022, 0.0000, 0.0035],\n",
       "        [0.0000, 0.0000, 0.0000,  ..., 0.0009, 0.0029, 0.0106],\n",
       "        [0.0000, 0.0000, 0.0000,  ..., 0.0015, 0.0016, 0.0027],\n",
       "        ...,\n",
       "        [0.0000, 0.0000, 0.0000,  ..., 0.0085, 0.0000, 0.0159],\n",
       "        [0.0000, 0.0000, 0.0024,  ..., 0.0073, 0.0000, 0.0058],\n",
       "        [0.0000, 0.0000, 0.0000,  ..., 0.0070, 0.0000, 0.0114]],\n",
       "       dtype=torch.float64)"
      ]
     },
     "execution_count": 49,
     "metadata": {},
     "output_type": "execute_result"
    }
   ],
   "source": [
    "torch.from_numpy(X_train)"
   ]
  }
 ],
 "metadata": {
  "kernelspec": {
   "display_name": "RNA-FM",
   "language": "python",
   "name": "python3"
  },
  "language_info": {
   "codemirror_mode": {
    "name": "ipython",
    "version": 3
   },
   "file_extension": ".py",
   "mimetype": "text/x-python",
   "name": "python",
   "nbconvert_exporter": "python",
   "pygments_lexer": "ipython3",
   "version": "3.8.11"
  }
 },
 "nbformat": 4,
 "nbformat_minor": 2
}
