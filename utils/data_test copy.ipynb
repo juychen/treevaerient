{
 "cells": [
  {
   "cell_type": "code",
   "execution_count": 1,
   "metadata": {},
   "outputs": [],
   "source": [
    "import pandas as pd\n",
    "import torch \n",
    "import numpy as np\n",
    "from scipy.io import mmread"
   ]
  },
  {
   "cell_type": "code",
   "execution_count": 2,
   "metadata": {},
   "outputs": [],
   "source": [
    "# Read matrix"
   ]
  },
  {
   "cell_type": "code",
   "execution_count": 3,
   "metadata": {},
   "outputs": [],
   "source": [
    "matrix_dp = mmread('/home/junyi/code/treevae/data/Variant/trimmed_starsolo_chrM_cellSNP0_WaldVariant_paperCell/passed_dp.mtx')\n",
    "matrix_ad = mmread('/home/junyi/code/treevae/data/Variant/trimmed_starsolo_chrM_cellSNP0_WaldVariant_paperCell/passed_ad.mtx')\n",
    "# Read the cell label\n",
    "matrix_dp.shape\n",
    "df_cell_label = pd.read_csv('/home/junyi/code/treevae/data/Variant/trimmed_starsolo_chrM_cellSNP0_WaldVariant_paperCell/cell_label.csv')\n",
    "var_name = pd.read_csv('/home/junyi/code/treevae/data/Variant/trimmed_starsolo_chrM_cellSNP0_WaldVariant_paperCell/passed_variant_names.txt',header=None)\n",
    "sample_name = pd.read_csv('/home/junyi/code/treevae/data/Variant/trimmed_starsolo_chrM_cellSNP0_WaldVariant_paperCell/passed_sample_names.txt',header=None)\n",
    "\n",
    "var_name\n",
    "from sklearn.preprocessing import LabelEncoder\n",
    "label_encoder = LabelEncoder()\n",
    "# Fit the label encoder on the labels\n",
    "label_encoder.fit(df_cell_label[\"true_label\"].values)\n",
    "# Transform the labels into encoded values\n",
    "encoded_labels = label_encoder.transform(df_cell_label[\"true_label\"].values)\n",
    "\n",
    "# Print the encoded labels\n",
    "\n",
    "encoded_labels\n",
    "df_cell_label.head()\n",
    "set(df_cell_label[\"true_label\"].values)\n",
    "matrix_ad_dp = matrix_ad/matrix_dp\n",
    "matrix_ad_dp = matrix_ad_dp.T\n",
    "from sklearn.model_selection import train_test_split\n",
    "X_train_val, X_test, y_train_val, y_test = train_test_split(matrix_ad_dp, encoded_labels, test_size=0.2, random_state=42)\n",
    "#X_train, X_val, y_train, y_val = train_test_split(X_train_val, y_train_val, test_size=0.2, random_state=42)\n"
   ]
  },
  {
   "cell_type": "code",
   "execution_count": 8,
   "metadata": {},
   "outputs": [],
   "source": [
    "sample_name.set_index(0,inplace=True)"
   ]
  },
  {
   "cell_type": "code",
   "execution_count": 6,
   "metadata": {},
   "outputs": [],
   "source": [
    "df_cell_label.set_index('barcode',inplace=True)"
   ]
  },
  {
   "cell_type": "code",
   "execution_count": 12,
   "metadata": {},
   "outputs": [],
   "source": [
    "df_sorted_label = df_cell_label.loc[sample_name.index].reset_index()"
   ]
  },
  {
   "cell_type": "code",
   "execution_count": 17,
   "metadata": {},
   "outputs": [],
   "source": [
    "df_sorted_label.columns = ['barcode','true_label']\n",
    "df_sorted_label.to_csv('/home/junyi/code/treevae/data/Variant/trimmed_starsolo_chrM_cellSNP0_WaldVariant_paperCell/cell_label.csv',index=False)"
   ]
  },
  {
   "cell_type": "code",
   "execution_count": 47,
   "metadata": {},
   "outputs": [
    {
     "data": {
      "text/plain": [
       "(1699, 3972)"
      ]
     },
     "execution_count": 47,
     "metadata": {},
     "output_type": "execute_result"
    }
   ],
   "source": [
    "X_train.shape"
   ]
  },
  {
   "cell_type": "code",
   "execution_count": 48,
   "metadata": {},
   "outputs": [
    {
     "data": {
      "text/plain": [
       "matrix([[0.        , 0.        , 0.        , ..., 0.00218818, 0.        ,\n",
       "         0.00348432],\n",
       "        [0.        , 0.        , 0.        , ..., 0.00090334, 0.00290276,\n",
       "         0.01061224],\n",
       "        [0.        , 0.        , 0.        , ..., 0.00148588, 0.00159744,\n",
       "         0.00273224],\n",
       "        ...,\n",
       "        [0.        , 0.        , 0.        , ..., 0.00847458, 0.        ,\n",
       "         0.01587302],\n",
       "        [0.        , 0.        , 0.0023753 , ..., 0.00733945, 0.        ,\n",
       "         0.00578035],\n",
       "        [0.        , 0.        , 0.        , ..., 0.00696864, 0.        ,\n",
       "         0.01142857]])"
      ]
     },
     "execution_count": 48,
     "metadata": {},
     "output_type": "execute_result"
    }
   ],
   "source": [
    "X_train"
   ]
  },
  {
   "cell_type": "code",
   "execution_count": 49,
   "metadata": {},
   "outputs": [
    {
     "data": {
      "text/plain": [
       "tensor([[0.0000, 0.0000, 0.0000,  ..., 0.0022, 0.0000, 0.0035],\n",
       "        [0.0000, 0.0000, 0.0000,  ..., 0.0009, 0.0029, 0.0106],\n",
       "        [0.0000, 0.0000, 0.0000,  ..., 0.0015, 0.0016, 0.0027],\n",
       "        ...,\n",
       "        [0.0000, 0.0000, 0.0000,  ..., 0.0085, 0.0000, 0.0159],\n",
       "        [0.0000, 0.0000, 0.0024,  ..., 0.0073, 0.0000, 0.0058],\n",
       "        [0.0000, 0.0000, 0.0000,  ..., 0.0070, 0.0000, 0.0114]],\n",
       "       dtype=torch.float64)"
      ]
     },
     "execution_count": 49,
     "metadata": {},
     "output_type": "execute_result"
    }
   ],
   "source": [
    "torch.from_numpy(X_train)"
   ]
  }
 ],
 "metadata": {
  "kernelspec": {
   "display_name": "RNA-FM",
   "language": "python",
   "name": "python3"
  },
  "language_info": {
   "codemirror_mode": {
    "name": "ipython",
    "version": 3
   },
   "file_extension": ".py",
   "mimetype": "text/x-python",
   "name": "python",
   "nbconvert_exporter": "python",
   "pygments_lexer": "ipython3",
   "version": "3.8.11"
  }
 },
 "nbformat": 4,
 "nbformat_minor": 2
}
